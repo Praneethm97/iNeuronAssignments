{
 "cells": [
  {
   "cell_type": "code",
   "execution_count": null,
   "id": "e85fe143",
   "metadata": {},
   "outputs": [],
   "source": [
    "1. In the below elements which of them are values or an expression? eg:- values can be integer or string and expressions will be mathematical operators.\n",
    "* >> Expression\n",
    "'hello' >> Value\n",
    "-87.8 >> Value\n",
    "-  >> Expression\n",
    "/  >> Expression\n",
    "+ >> Expression\n",
    "6 >> Value\n"
   ]
  },
  {
   "cell_type": "code",
   "execution_count": null,
   "id": "46e40b26",
   "metadata": {},
   "outputs": [],
   "source": [
    "What is the difference between string and variable?\n",
    "\n",
    "String >> String is derived data type in python, strings are immutable, they are used to store sequence of characters.\n",
    "We can define string by '' or \"\", if we want to define multiple lines in as string use \"\"\" \"\"\", in string characters are stored\n",
    "through indexing\n",
    "\n",
    "Variable >> Variable is nothing but a memory block, where we can store the data\n",
    "variable has 4 characteristics \n",
    "1. Variable has name\n",
    "2. Variable has size\n",
    "3. Variable has data type \n",
    "4. Variable has value"
   ]
  },
  {
   "cell_type": "code",
   "execution_count": null,
   "id": "c2066c65",
   "metadata": {},
   "outputs": [],
   "source": [
    "Describe three different data types?\n",
    "\n",
    ">> String\n",
    ">> int\n",
    ">> float\n",
    ">> Complex\n",
    ">> list\n",
    ">> tuple\n",
    ">> dictionary\n",
    ">> set"
   ]
  },
  {
   "cell_type": "code",
   "execution_count": null,
   "id": "c5fd2015",
   "metadata": {},
   "outputs": [],
   "source": [
    "What is an expression made up of? What do all expressions do?\n",
    "\n",
    "Expression is combination of operators and operands(variables) which are designed to achieve a particular task,\n",
    "By using expresions we can perform operations to yield the result"
   ]
  },
  {
   "cell_type": "code",
   "execution_count": null,
   "id": "15f094fa",
   "metadata": {},
   "outputs": [],
   "source": [
    "This assignment statements, like spam = 10. What is the difference between an expression and a statement?\n",
    "\n",
    ">> Expression is something that can be reduced to a value or that yields a result\n",
    ">> Statement represent an action or command that does something"
   ]
  },
  {
   "cell_type": "code",
   "execution_count": null,
   "id": "573e5a90",
   "metadata": {},
   "outputs": [],
   "source": [
    "After running the following code, what does the variable bacon contain?\n",
    "bacon = 22\n",
    "bacon + 1\n",
    "\n",
    ">> 22 because the expression bacon+1 will evaluate during runtime but not reassigned to variable bacon"
   ]
  },
  {
   "cell_type": "code",
   "execution_count": null,
   "id": "cc75112c",
   "metadata": {},
   "outputs": [],
   "source": [
    "What should the values of the following two terms be?\n",
    "'spam' + 'spamspam' >> 'spamspamspam'\n",
    "'spam' * 3 >> 'spamspamspam'"
   ]
  },
  {
   "cell_type": "code",
   "execution_count": null,
   "id": "f22aeb7d",
   "metadata": {},
   "outputs": [],
   "source": [
    "Why is eggs a valid variable name while 100 is invalid\n",
    "\n",
    "100 is a numerical value and in python variable name should not start with numerical values \n",
    "egg is alphabetical name and in python we can use alphabets to define variable names "
   ]
  },
  {
   "cell_type": "code",
   "execution_count": null,
   "id": "f188446f",
   "metadata": {},
   "outputs": [],
   "source": [
    "What three functions can be used to get the integer, floating-point number, or string version of a value?\n",
    "\n",
    "int() >> converts value to int data type\n",
    "float() >> converts value to float data type\n",
    "str() >> converts value to string data type"
   ]
  },
  {
   "cell_type": "code",
   "execution_count": null,
   "id": "10f6919c",
   "metadata": {},
   "outputs": [],
   "source": [
    "Why does this expression cause an error? How can you fix it?\n",
    "'I have eaten ' + 99 + ' burritos.'\n",
    "\n",
    "In python we can only concatenate strings with other strings, if we try to concatenate strings with any other data types we will\n",
    "get type error and in the above statement we are trying to concatenate str with int >> that's why the problem statement leads to type error\n",
    "\n",
    "we can fix it either by enclosing the 99 in quotes i.e '99' to make it string or use str() to convert int to string\n",
    "'I have eaten ' + '99' + ' burritos.'\n",
    "'I have eaten ' + str(99) + ' burritos.'"
   ]
  }
 ],
 "metadata": {
  "kernelspec": {
   "display_name": "Python 3 (ipykernel)",
   "language": "python",
   "name": "python3"
  },
  "language_info": {
   "codemirror_mode": {
    "name": "ipython",
    "version": 3
   },
   "file_extension": ".py",
   "mimetype": "text/x-python",
   "name": "python",
   "nbconvert_exporter": "python",
   "pygments_lexer": "ipython3",
   "version": "3.9.7"
  }
 },
 "nbformat": 4,
 "nbformat_minor": 5
}
